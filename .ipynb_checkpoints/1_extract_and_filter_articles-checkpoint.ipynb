{
 "cells": [
  {
   "cell_type": "markdown",
   "metadata": {},
   "source": [
    "# Imports"
   ]
  },
  {
   "cell_type": "code",
   "execution_count": 1,
   "metadata": {
    "ExecuteTime": {
     "end_time": "2020-11-08T16:10:38.017852Z",
     "start_time": "2020-11-08T16:10:38.014907Z"
    }
   },
   "outputs": [],
   "source": [
    "import pickle\n",
    "import gc"
   ]
  },
  {
   "cell_type": "markdown",
   "metadata": {},
   "source": [
    "# Load articles"
   ]
  },
  {
   "cell_type": "code",
   "execution_count": 2,
   "metadata": {
    "ExecuteTime": {
     "end_time": "2020-11-08T16:11:53.737889Z",
     "start_time": "2020-11-08T16:10:38.027925Z"
    }
   },
   "outputs": [],
   "source": [
    "wiki_file = '../DATA/eswiki-20200601-pages-articles-multistream.txt'\n",
    "\n",
    "def load_data(wiki_text_file: str):\n",
    "    \n",
    "    '''This function loads the text file that contains all the Spanish Wikipedia Articles'''\n",
    "    \n",
    "    with open(wiki_text_file, 'r') as myfile:\n",
    "        data = myfile.read()\n",
    "        return data\n",
    "\n",
    "data_raw = load_data(wiki_file)"
   ]
  },
  {
   "cell_type": "markdown",
   "metadata": {},
   "source": [
    "# Filter articles"
   ]
  },
  {
   "cell_type": "code",
   "execution_count": 3,
   "metadata": {
    "ExecuteTime": {
     "end_time": "2020-11-08T16:12:46.657495Z",
     "start_time": "2020-11-08T16:11:53.739988Z"
    }
   },
   "outputs": [
    {
     "name": "stdout",
     "output_type": "stream",
     "text": [
      "Total # of Spanish Wikipedia articles: 3928922\n",
      "Total # of Spanish Wikipedia Musical Artists articles: 26807\n"
     ]
    }
   ],
   "source": [
    "data_wiki_articles = data_raw.split('<page>')\n",
    "print(f'Total # of Spanish Wikipedia articles: {len(data_wiki_articles)}')\n",
    "\n",
    "patterns = ['{{Ficha de artista musical', '|Discográfica', '|discográfica', '|voz', '|compañía discográfica', '|instrumento']\n",
    "data_artists_articles = [pat for pat in data_wiki_articles if any(p in pat for p in patterns)]\n",
    "\n",
    "patterns = ['{{Ficha de persona', '{{Ficha de artista musical']\n",
    "data_artists_articles = [pat for pat in data_artists_articles if any(p in pat for p in patterns)]\n",
    "\n",
    "patterns = ['{{Ficha de personaje']\n",
    "data_artists_articles = [pat for pat in data_artists_articles if not any(p in pat for p in patterns)]\n",
    "print(f'Total # of Spanish Wikipedia Musical Artists articles: {len(data_artists_articles)}')\n",
    "\n",
    "del data_raw\n",
    "del data_wiki_articles\n",
    "\n",
    "gc.collect();"
   ]
  },
  {
   "cell_type": "markdown",
   "metadata": {},
   "source": [
    "# Save the articles"
   ]
  },
  {
   "cell_type": "code",
   "execution_count": 4,
   "metadata": {
    "ExecuteTime": {
     "end_time": "2020-11-08T16:12:47.803059Z",
     "start_time": "2020-11-08T16:12:46.659299Z"
    }
   },
   "outputs": [],
   "source": [
    "pickle.dump(data_artists_articles, open( \"../DATA/artists_articles_raw.p\", \"wb\" ) )"
   ]
  }
 ],
 "metadata": {
  "kernelspec": {
   "display_name": "Python 3",
   "language": "python",
   "name": "python3"
  },
  "language_info": {
   "codemirror_mode": {
    "name": "ipython",
    "version": 3
   },
   "file_extension": ".py",
   "mimetype": "text/x-python",
   "name": "python",
   "nbconvert_exporter": "python",
   "pygments_lexer": "ipython3",
   "version": "3.7.4"
  },
  "toc": {
   "base_numbering": 1,
   "nav_menu": {},
   "number_sections": true,
   "sideBar": true,
   "skip_h1_title": false,
   "title_cell": "Table of Contents",
   "title_sidebar": "Contents",
   "toc_cell": false,
   "toc_position": {},
   "toc_section_display": true,
   "toc_window_display": false
  },
  "varInspector": {
   "cols": {
    "lenName": 16,
    "lenType": 16,
    "lenVar": 40
   },
   "kernels_config": {
    "python": {
     "delete_cmd_postfix": "",
     "delete_cmd_prefix": "del ",
     "library": "var_list.py",
     "varRefreshCmd": "print(var_dic_list())"
    },
    "r": {
     "delete_cmd_postfix": ") ",
     "delete_cmd_prefix": "rm(",
     "library": "var_list.r",
     "varRefreshCmd": "cat(var_dic_list()) "
    }
   },
   "types_to_exclude": [
    "module",
    "function",
    "builtin_function_or_method",
    "instance",
    "_Feature"
   ],
   "window_display": false
  }
 },
 "nbformat": 4,
 "nbformat_minor": 2
}
